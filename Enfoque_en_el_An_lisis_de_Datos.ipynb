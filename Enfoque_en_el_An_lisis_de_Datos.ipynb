{
  "nbformat": 4,
  "nbformat_minor": 0,
  "metadata": {
    "colab": {
      "provenance": [],
      "authorship_tag": "ABX9TyPnG6A5pwFUUELMBejoYpN0",
      "include_colab_link": true
    },
    "kernelspec": {
      "name": "python3",
      "display_name": "Python 3"
    },
    "language_info": {
      "name": "python"
    }
  },
  "cells": [
    {
      "cell_type": "markdown",
      "metadata": {
        "id": "view-in-github",
        "colab_type": "text"
      },
      "source": [
        "<a href=\"https://colab.research.google.com/github/ZafraCandia/Amigosecreto/blob/main/Enfoque_en_el_An_lisis_de_Datos.ipynb\" target=\"_parent\"><img src=\"https://colab.research.google.com/assets/colab-badge.svg\" alt=\"Open In Colab\"/></a>"
      ]
    },
    {
      "cell_type": "code",
      "source": [
        "import os\n",
        "import sys\n",
        "import textwrap\n",
        "from pathlib import Path\n",
        "\n",
        "try:\n",
        "    import pandas as pd\n",
        "    import matplotlib.pyplot as plt\n",
        "    import numpy as np\n",
        "except Exception:\n",
        "    print(\"Instalando dependencias...\")\n",
        "    !pip install pandas matplotlib --quiet\n",
        "    import pandas as pd\n",
        "    import matplotlib.pyplot as plt\n",
        "    import numpy as np\n",
        "\n",
        "plt.rcParams['figure.figsize'] = (10,6)"
      ],
      "metadata": {
        "id": "7-2oap7DH5KW"
      },
      "execution_count": 20,
      "outputs": []
    },
    {
      "cell_type": "code",
      "source": [
        "REPO_URL = 'https://github.com/alura-es-cursos/challenge1-data-science-latam.git'\n",
        "DATA_SUBPATH = 'base-de-datos-challenge1-latam'\n",
        "\n",
        "if not Path(DATA_SUBPATH).exists():\n",
        "    print('Clonando repositorio con los datos...')\n",
        "    os.system(f'git clone {REPO_URL} --depth 1')\n",
        "else:\n",
        "    print('La carpeta de datos ya existe. Continuando...')\n",
        "\n",
        "DATA_DIR = Path(DATA_SUBPATH)\n",
        "if not DATA_DIR.exists():\n",
        "    raise FileNotFoundError(f'No se encontró la carpeta de datos en {DATA_DIR}. Revisa que la clonación haya funcionado.')"
      ],
      "metadata": {
        "colab": {
          "base_uri": "https://localhost:8080/",
          "height": 193
        },
        "id": "Gb5Ag6gjH58D",
        "outputId": "bd503501-abf8-4f0c-b3f9-a15d0fda42e6"
      },
      "execution_count": 21,
      "outputs": [
        {
          "output_type": "stream",
          "name": "stdout",
          "text": [
            "Clonando repositorio con los datos...\n"
          ]
        },
        {
          "output_type": "error",
          "ename": "FileNotFoundError",
          "evalue": "No se encontró la carpeta de datos en base-de-datos-challenge1-latam. Revisa que la clonación haya funcionado.",
          "traceback": [
            "\u001b[0;31m---------------------------------------------------------------------------\u001b[0m",
            "\u001b[0;31mFileNotFoundError\u001b[0m                         Traceback (most recent call last)",
            "\u001b[0;32m/tmp/ipython-input-80924372.py\u001b[0m in \u001b[0;36m<cell line: 0>\u001b[0;34m()\u001b[0m\n\u001b[1;32m     10\u001b[0m \u001b[0mDATA_DIR\u001b[0m \u001b[0;34m=\u001b[0m \u001b[0mPath\u001b[0m\u001b[0;34m(\u001b[0m\u001b[0mDATA_SUBPATH\u001b[0m\u001b[0;34m)\u001b[0m\u001b[0;34m\u001b[0m\u001b[0;34m\u001b[0m\u001b[0m\n\u001b[1;32m     11\u001b[0m \u001b[0;32mif\u001b[0m \u001b[0;32mnot\u001b[0m \u001b[0mDATA_DIR\u001b[0m\u001b[0;34m.\u001b[0m\u001b[0mexists\u001b[0m\u001b[0;34m(\u001b[0m\u001b[0;34m)\u001b[0m\u001b[0;34m:\u001b[0m\u001b[0;34m\u001b[0m\u001b[0;34m\u001b[0m\u001b[0m\n\u001b[0;32m---> 12\u001b[0;31m     \u001b[0;32mraise\u001b[0m \u001b[0mFileNotFoundError\u001b[0m\u001b[0;34m(\u001b[0m\u001b[0;34mf'No se encontró la carpeta de datos en {DATA_DIR}. Revisa que la clonación haya funcionado.'\u001b[0m\u001b[0;34m)\u001b[0m\u001b[0;34m\u001b[0m\u001b[0;34m\u001b[0m\u001b[0m\n\u001b[0m",
            "\u001b[0;31mFileNotFoundError\u001b[0m: No se encontró la carpeta de datos en base-de-datos-challenge1-latam. Revisa que la clonación haya funcionado."
          ]
        }
      ]
    },
    {
      "cell_type": "code",
      "source": [
        "print(f\"DATA_DIR is: {DATA_DIR}\") # Added print statement to check the path\n",
        "csv_files = sorted([p for p in DATA_DIR.glob('**/*.csv')])\n",
        "print('\\nArchivos CSV detectados:')\n",
        "for f in csv_files:\n",
        "    print(' -', f.relative_to(Path.cwd()))\n",
        "\n",
        "tables = {}\n",
        "for f in csv_files:\n",
        "    try:\n",
        "        df = pd.read_csv(f, low_memory=False)\n",
        "        tables[f.stem] = df\n",
        "    except Exception as e:\n",
        "        print(f'No se pudo leer {f.name}: {e}')\n",
        "\n",
        "print('\\nTablas cargadas:')\n",
        "for name, df in tables.items():\n",
        "    print(f' - {name}: {df.shape[0]} filas x {df.shape[1]} columnas')\n",
        "\n",
        "print('\\nPrimeras columnas de cada tabla:')\n",
        "for name, df in tables.items():\n",
        "    print('\\n==', name, '==')\n",
        "    display(df.head(2))"
      ],
      "metadata": {
        "id": "R--VHNYAH_Gf"
      },
      "execution_count": null,
      "outputs": []
    },
    {
      "cell_type": "code",
      "source": [
        "candidates = {name: df for name, df in tables.items()}\n",
        "\n",
        "def find_table_with_column(colname):\n",
        "    for name, df in candidates.items():\n",
        "        if colname in df.columns:\n",
        "            return name, df\n",
        "    return None, None\n",
        "\n",
        "ord_items_name, ord_items = find_table_with_column('order_id')\n",
        "products_name, products = find_table_with_column('product_id')\n",
        "sellers_name, sellers = find_table_with_column('seller_id')\n",
        "customers_name, customers = find_table_with_column('customer_id')\n",
        "reviews_name, reviews = find_table_with_column('review_score')\n",
        "\n",
        "print('\\nMapeo probable de tablas:')\n",
        "print(' order items ->', ord_items_name)\n",
        "print(' products    ->', products_name)\n",
        "print(' sellers     ->', sellers_name)\n",
        "print(' customers   ->', customers_name)\n",
        "print(' reviews     ->', reviews_name)\n",
        "\n"
      ],
      "metadata": {
        "id": "4_o1C6wMIItk"
      },
      "execution_count": null,
      "outputs": []
    },
    {
      "cell_type": "code",
      "source": [
        "def choose_col(df, choices):\n",
        "    \"\"\"Devuelve el primer nombre de columna disponible en choices para el dataframe df.\"\"\"\n",
        "    for c in choices:\n",
        "        if c in df.columns:\n",
        "            return c\n",
        "    return None\n",
        "\n",
        "col_choices = {\n",
        "    'order_id': ['order_id', 'order_id_pk', 'id_order'],\n",
        "    'order_item_id': ['order_item_id', 'order_item_id_pk', 'item_id'],\n",
        "    'product_id': ['product_id', 'id_product', 'product_id_pk'],\n",
        "    'seller_id': ['seller_id', 'seller_id_pk', 'store_id', 'seller_id'],\n",
        "    'price': ['price', 'price_value', 'payment_value', 'unit_price', 'order_item_price'],\n",
        "    'freight_value': ['freight_value', 'shipping_cost', 'freight_value', 'shipping_fee'],\n",
        "    'quantity': ['quantity', 'order_item_quantity', 'qty', 'items_quantity'],\n",
        "    'product_category_name': ['product_category_name', 'category_name', 'category', 'product_category'],\n",
        "    'review_score': ['review_score', 'score', 'review_rating'],\n",
        "    'customer_id': ['customer_id', 'buyer_id', 'customer_id_pk']\n",
        "}\n",
        "\n",
        "colmap = {}\n",
        "\n",
        "if ord_items is not None:\n",
        "    df = ord_items\n",
        "    for key, choices in col_choices.items():\n",
        "        found = choose_col(df, choices)\n",
        "        if found:\n",
        "            colmap[key] = (ord_items_name, found)\n",
        "\n",
        "for key, choices in col_choices.items():\n",
        "    if key in colmap:\n",
        "        continue\n",
        "    for name, df in candidates.items():\n",
        "        found = choose_col(df, choices)\n",
        "        if found:\n",
        "            colmap[key] = (name, found)\n",
        "            break\n",
        "\n",
        "print('\\nColumn mapping detectado (tabla, columna):')\n",
        "for k, v in colmap.items():\n",
        "    print(f' - {k}: {v}')\n",
        "\n",
        "if ord_items is None:\n",
        "    raise RuntimeError('No fue posible encontrar una tabla con order_id. Revisa los CSV cargados.')\n",
        "\n",
        "master = ord_items.copy()\n",
        "\n",
        "if 'price' in colmap and colmap['price'][0] != ord_items_name:\n",
        "    src_name, src_col = colmap['price']\n",
        "    price_df = candidates[src_name][[colmap['product_id'][1] if 'product_id' in colmap else 'product_id', src_col]].drop_duplicates()\n",
        "    master = master.merge(price_df, how='left', left_on=choose_col(master, [colmap['product_id'][1]]) , right_on=colmap['product_id'][1])\n",
        " rename_map = {}\n",
        "for logical, (tbl, col) in colmap.items():\n",
        "\n",
        " if tbl == ord_items_name:\n",
        "        rename_map[col] = logical\n",
        "\n",
        "master = master.rename(columns=rename_map)\n",
        "\n",
        "for logical, (tbl, col) in colmap.items():\n",
        "    if logical in master.columns:\n",
        "        continue\n",
        "\n",
        " if logical == 'product_category_name' and products is not None:\n",
        "        key = colmap.get('product_id', (None, 'product_id'))[1]\n",
        "        if key in master.columns and key in products.columns:\n",
        "            master = master.merge(products[[key, col]], how='left', left_on=key, right_on=key)\n",
        "            master = master.rename(columns={col: logical})\n",
        "    elif logical == 'review_score' and reviews is not None:\n",
        " key = colmap.get('order_id', (None, 'order_id'))[1]\n",
        "        if key in master.columns and key in reviews.columns:\n",
        "            master = master.merge(reviews[[key, col]], how='left', left_on=key, right_on=key)\n",
        "            master = master.rename(columns={col: logical})\n",
        "    elif logical == 'seller_id' and sellers is not None:\n",
        "  pass\n",
        "    else:\n",
        "  if col in candidates[tbl].columns:\n",
        " common = set(master.columns).intersection(candidates[tbl].columns)\n",
        "            if common:\n",
        "                common_key = list(common)[0]\n",
        "                master = master.merge(candidates[tbl][[common_key, col]], how='left', on=common_key)\n",
        "                master = master.rename(columns={col: logical})\n",
        "\n",
        "print('\\nMaster dataframe shape:', master.shape)\n",
        "print('Columnas del master (muestra):')\n",
        "print(master.columns.tolist())\n",
        "\n",
        "\n",
        "for c in ['price', 'freight_value', 'quantity', 'review_score']:\n",
        "    if c in master.columns:\n",
        "        master[c] = pd.to_numeric(master[c], errors='coerce')\n",
        "\n",
        "if 'quantity' not in master.columns:\n",
        "    master['quantity'] = 1\n"
      ],
      "metadata": {
        "colab": {
          "base_uri": "https://localhost:8080/",
          "height": 106
        },
        "id": "iRDtF7xNIPdP",
        "outputId": "252b8a8a-339c-482d-f88f-ec1713977b78"
      },
      "execution_count": 23,
      "outputs": [
        {
          "output_type": "error",
          "ename": "IndentationError",
          "evalue": "unindent does not match any outer indentation level (<tokenize>, line 52)",
          "traceback": [
            "\u001b[0;36m  File \u001b[0;32m\"<tokenize>\"\u001b[0;36m, line \u001b[0;32m52\u001b[0m\n\u001b[0;31m    rename_map = {}\u001b[0m\n\u001b[0m    ^\u001b[0m\n\u001b[0;31mIndentationError\u001b[0m\u001b[0;31m:\u001b[0m unindent does not match any outer indentation level\n"
          ]
        }
      ]
    },
    {
      "cell_type": "code",
      "source": [
        "def facturacion_por_tienda(master_df, seller_col_candidates=['seller_id','store_id','seller']):\n",
        "    \"\"\"Calcula facturación por tienda/vendedor. Retorna DataFrame con columnas ['store', 'revenue']\"\"\"\n",
        "    seller_col = None\n",
        "    for sc in seller_col_candidates:\n",
        "        if sc in master_df.columns:\n",
        "            seller_col = sc\n",
        "            break\n",
        "    if seller_col is None:\n",
        "        raise RuntimeError('No se encontró una columna de tienda/vendedor en el dataframe maestro. Revisa nombres de columnas.')\n",
        "    if 'price' not in master_df.columns:\n",
        "        raise RuntimeError('No se encontró la columna price para calcular facturación.')\n",
        "\n",
        "    master_df['revenue_line'] = master_df['price'] * master_df['quantity']\n",
        "    revenue = master_df.groupby(seller_col)['revenue_line'].sum().reset_index().rename(columns={seller_col: 'store', 'revenue_line': 'revenue'})\n",
        "    revenue = revenue.sort_values('revenue', ascending=False).reset_index(drop=True)\n",
        "    return revenue\n",
        "\n",
        "\n",
        "def categorias_populares_por_tienda(master_df, seller_col='seller_id', cat_col='product_category_name', topn=3):\n",
        "    if seller_col not in master_df.columns or cat_col not in master_df.columns:\n",
        "        raise RuntimeError('Columnas requeridas para categorías no presentes en master.')\n",
        "    df = master_df.copy()\n",
        "    df['sold_qty'] = df['quantity']\n",
        "    grp = df.groupby([seller_col, cat_col])['sold_qty'].sum().reset_index()\n",
        "\n",
        "tops = grp.sort_values(['seller_id', 'sold_qty'], ascending=[True, False]).groupby(seller_col).head(topn)\n",
        "    return tops\n",
        "\n",
        "def avg_review_por_tienda(master_df, seller_col='seller_id', review_col='review_score'):\n",
        "    if seller_col not in master_df.columns or review_col not in master_df.columns:\n",
        "        raise RuntimeError('Columnas requeridas para reviews no presentes en master.')\n",
        "    return master_df.groupby(seller_col)[review_col].mean().reset_index().rename(columns={seller_col: 'store', review_col: 'avg_review'}).sort_values('avg_review', ascending=False)\n",
        "\n",
        "\n",
        "def productos_mas_menos_vendidos(master_df, seller_col='seller_id', product_col='product_id', topn=1):\n",
        "    if seller_col not in master_df.columns or product_col not in master_df.columns:\n",
        "        raise RuntimeError('Columnas requeridas para productos no presentes en master.')\n",
        "    df = master_df.copy()\n",
        "    df['sold_qty'] = df['quantity']\n",
        "    grp = df.groupby([seller_col, product_col])['sold_qty'].sum().reset_index()\n",
        "    most = grp.sort_values(['seller_id','sold_qty'], ascending=[True, False]).groupby(seller_col).head(topn)\n",
        "    least = grp.sort_values(['seller_id','sold_qty'], ascending=[True, True]).groupby(seller_col).head(topn)\n",
        "    return most, least\n",
        "\n",
        "\n",
        "def costo_promedio_envio(master_df, seller_col='seller_id', freight_col='freight_value'):\n",
        "    if seller_col not in master_df.columns or freight_col not in master_df.columns:\n",
        "        raise RuntimeError('Columnas requeridas para envío no presentes en master.')\n",
        "    return master_df.groupby(seller_col)[freight_col].mean().reset_index().rename(columns={seller_col: 'store', freight_col: 'avg_freight'}).sort_values('avg_freight')"
      ],
      "metadata": {
        "id": "Bl4wIYJsI5BY"
      },
      "execution_count": null,
      "outputs": []
    },
    {
      "cell_type": "code",
      "source": [
        "seller_candidates = ['seller_id','seller','store_id','store']\n",
        "found_seller_col = None\n",
        "for s in seller_candidates:\n",
        "    if s in master.columns:\n",
        "        found_seller_col = s\n",
        "        break\n",
        "\n",
        "if found_seller_col is None:\n",
        "    raise RuntimeError('No se encontró ninguna columna de tienda/vendedor en el dataframe maestro. Revisa las tablas cargadas y sus nombres de columna.')\n",
        "\n",
        "print(f'Usando columna de tienda: {found_seller_col}')\n",
        "\n",
        "\n",
        "try:\n",
        "    revenue = facturacion_por_tienda(master, seller_col_candidates=[found_seller_col])\n",
        "    print('\\nFacturación total por tienda:')\n",
        "    display(revenue)\n",
        "    revenue.plot(kind='bar', x='store', y='revenue', legend=False, title='Facturación total por tienda')\n",
        "    plt.ylabel('Revenue')\n",
        "    plt.tight_layout()\n",
        "    plt.show()\n",
        "except Exception as e:\n",
        "    print('No se pudo calcular facturación:', e)\n",
        "\n",
        "cat_col = None\n",
        "for possible in ['product_category_name','category_name','category','product_category']:\n",
        "    if possible in master.columns:\n",
        "        cat_col = possible\n",
        "        break\n",
        "if cat_col is None:\n",
        "    print('No se encontró columna de categoría de producto en el master. Saltando análisis de categorías.')\n",
        "else:\n",
        "    try:\n",
        "        tops = categorias_populares_por_tienda(master, seller_col=found_seller_col, cat_col=cat_col, topn=5)\n",
        "        print('\\nCategorías más populares por tienda (top 5 por tienda):')\n",
        "        display(tops)\n",
        "    except Exception as e:\n",
        "        print('Error al calcular categorías populares:', e)\n",
        "\n",
        "if 'review_score' in master.columns:\n",
        "    try:\n",
        "        avg_rev = avg_review_por_tienda(master, seller_col=found_seller_col, review_col='review_score')\n",
        "        print('\\nPromedio de evaluación por tienda:')\n",
        "        display(avg_rev)\n",
        "    except Exception as e:\n",
        "        print('No se pudo calcular promedio de reviews:', e)\n",
        "else:\n",
        "    print('\\nNo se encontró columna review_score en master. Si existe en otra tabla, puedes unirla manualmente.')\n",
        "\n",
        "prod_col = None\n",
        "for possible in ['product_id','product_id_pk','product_code']:\n",
        "    if possible in master.columns:\n",
        "        prod_col = possible\n",
        "        break\n",
        "if prod_col is None:\n",
        "    print('\\nNo se encontró columna product_id en el master. Saltando productos más/menos vendidos.')\n",
        "else:\n",
        "    try:\n",
        "        most, least = productos_mas_menos_vendidos(master, seller_col=found_seller_col, product_col=prod_col, topn=3)\n",
        "        print('\\nProductos más vendidos (top 3 por tienda):')\n",
        "        display(most)\n",
        "        print('\\nProductos menos vendidos (top 3 por tienda):')\n",
        "        display(least)\n",
        "    except Exception as e:\n",
        "        print('Error al calcular productos más/menos vendidos:', e)\n",
        "\n",
        "if 'freight_value' in master.columns or 'shipping_cost' in master.columns:\n",
        "    freight_col = 'freight_value' if 'freight_value' in master.columns else 'shipping_cost'\n",
        "    try:\n",
        "        avg_freight = costo_promedio_envio(master, seller_col=found_seller_col, freight_col=freight_col)\n",
        "        print('\\nCosto promedio de envío por tienda:')\n",
        "        display(avg_freight)\n",
        "    except Exception as e:\n",
        "        print('Error al calcular costo promedio de envío:', e)\n",
        "else:\n",
        "    print('\\nNo se encontró columna de costo de envío en el master. Si existe en otra tabla, puedes unirla manualmente.')\n"
      ],
      "metadata": {
        "colab": {
          "base_uri": "https://localhost:8080/",
          "height": 211
        },
        "id": "S5VJlp-XJGBE",
        "outputId": "bf85a74f-02a2-4635-b518-a390df109aed"
      },
      "execution_count": 24,
      "outputs": [
        {
          "output_type": "error",
          "ename": "NameError",
          "evalue": "name 'master' is not defined",
          "traceback": [
            "\u001b[0;31m---------------------------------------------------------------------------\u001b[0m",
            "\u001b[0;31mNameError\u001b[0m                                 Traceback (most recent call last)",
            "\u001b[0;32m/tmp/ipython-input-3840395953.py\u001b[0m in \u001b[0;36m<cell line: 0>\u001b[0;34m()\u001b[0m\n\u001b[1;32m      2\u001b[0m \u001b[0mfound_seller_col\u001b[0m \u001b[0;34m=\u001b[0m \u001b[0;32mNone\u001b[0m\u001b[0;34m\u001b[0m\u001b[0;34m\u001b[0m\u001b[0m\n\u001b[1;32m      3\u001b[0m \u001b[0;32mfor\u001b[0m \u001b[0ms\u001b[0m \u001b[0;32min\u001b[0m \u001b[0mseller_candidates\u001b[0m\u001b[0;34m:\u001b[0m\u001b[0;34m\u001b[0m\u001b[0;34m\u001b[0m\u001b[0m\n\u001b[0;32m----> 4\u001b[0;31m     \u001b[0;32mif\u001b[0m \u001b[0ms\u001b[0m \u001b[0;32min\u001b[0m \u001b[0mmaster\u001b[0m\u001b[0;34m.\u001b[0m\u001b[0mcolumns\u001b[0m\u001b[0;34m:\u001b[0m\u001b[0;34m\u001b[0m\u001b[0;34m\u001b[0m\u001b[0m\n\u001b[0m\u001b[1;32m      5\u001b[0m         \u001b[0mfound_seller_col\u001b[0m \u001b[0;34m=\u001b[0m \u001b[0ms\u001b[0m\u001b[0;34m\u001b[0m\u001b[0;34m\u001b[0m\u001b[0m\n\u001b[1;32m      6\u001b[0m         \u001b[0;32mbreak\u001b[0m\u001b[0;34m\u001b[0m\u001b[0;34m\u001b[0m\u001b[0m\n",
            "\u001b[0;31mNameError\u001b[0m: name 'master' is not defined"
          ]
        }
      ]
    },
    {
      "cell_type": "code",
      "source": [
        "print('\\n--- Paso siguiente: Interpretación y recomendación ---')\n",
        "print(textwrap.dedent('''\n",
        "Con los resultados producidos arriba, identifique la tienda con menor desempeño considerando:\n",
        " - Facturación: la tienda con menor revenue total.\n",
        " - Evaluación: tiendas con review promedio bajo (posible riesgo reputacional).\n",
        " - Popularidad: tiendas con pocas categorías o ventas concentradas en pocos productos.\n",
        " - Costo de envío: tiendas con costo de envío promedio alto que erosionen margen.\n",
        "\n",
        "Recomendación sugerida: vender la tienda que esté consistentemente en los peores puestos en varias de estas métricas.\n",
        "\n",
        "Si quieres, puedo generar un informe automatizado en formato PDF o PowerPoint con tablas, gráficos y recomendaciones ejecutivas.\n",
        "'''))"
      ],
      "metadata": {
        "id": "oYrJh6H8JUw7"
      },
      "execution_count": null,
      "outputs": []
    }
  ]
}